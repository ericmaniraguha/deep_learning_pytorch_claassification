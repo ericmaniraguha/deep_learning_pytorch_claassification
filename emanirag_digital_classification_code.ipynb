{
  "nbformat": 4,
  "nbformat_minor": 0,
  "metadata": {
    "colab": {
      "provenance": [],
      "toc_visible": true
    },
    "kernelspec": {
      "name": "python3",
      "display_name": "Python 3"
    },
    "language_info": {
      "name": "python"
    }
  },
  "cells": [
    {
      "cell_type": "markdown",
      "source": [
        "## Simple multi-layer perceptron (MLP) for digit classification using the MNIST dataset in PyTorch"
      ],
      "metadata": {
        "id": "I9l0u0PFdUnH"
      }
    },
    {
      "cell_type": "markdown",
      "source": [
        "#### Install torchvision - Providing Datasets, Transforms, and Image/Video Operations for PyTorch"
      ],
      "metadata": {
        "id": "1YiAdJREwIS5"
      }
    },
    {
      "cell_type": "code",
      "execution_count": 1,
      "metadata": {
        "id": "VC57qOY0bv2P",
        "colab": {
          "base_uri": "https://localhost:8080/"
        },
        "outputId": "5015a4b8-6c1d-49f9-cb87-3a8c3cee1448"
      },
      "outputs": [
        {
          "output_type": "stream",
          "name": "stdout",
          "text": [
            "Requirement already satisfied: torch in /usr/local/lib/python3.10/dist-packages (2.0.1+cu118)\n",
            "Requirement already satisfied: torchvision in /usr/local/lib/python3.10/dist-packages (0.15.2+cu118)\n",
            "Requirement already satisfied: filelock in /usr/local/lib/python3.10/dist-packages (from torch) (3.12.2)\n",
            "Requirement already satisfied: typing-extensions in /usr/local/lib/python3.10/dist-packages (from torch) (4.7.1)\n",
            "Requirement already satisfied: sympy in /usr/local/lib/python3.10/dist-packages (from torch) (1.12)\n",
            "Requirement already satisfied: networkx in /usr/local/lib/python3.10/dist-packages (from torch) (3.1)\n",
            "Requirement already satisfied: jinja2 in /usr/local/lib/python3.10/dist-packages (from torch) (3.1.2)\n",
            "Requirement already satisfied: triton==2.0.0 in /usr/local/lib/python3.10/dist-packages (from torch) (2.0.0)\n",
            "Requirement already satisfied: cmake in /usr/local/lib/python3.10/dist-packages (from triton==2.0.0->torch) (3.27.2)\n",
            "Requirement already satisfied: lit in /usr/local/lib/python3.10/dist-packages (from triton==2.0.0->torch) (16.0.6)\n",
            "Requirement already satisfied: numpy in /usr/local/lib/python3.10/dist-packages (from torchvision) (1.23.5)\n",
            "Requirement already satisfied: requests in /usr/local/lib/python3.10/dist-packages (from torchvision) (2.31.0)\n",
            "Requirement already satisfied: pillow!=8.3.*,>=5.3.0 in /usr/local/lib/python3.10/dist-packages (from torchvision) (9.4.0)\n",
            "Requirement already satisfied: MarkupSafe>=2.0 in /usr/local/lib/python3.10/dist-packages (from jinja2->torch) (2.1.3)\n",
            "Requirement already satisfied: charset-normalizer<4,>=2 in /usr/local/lib/python3.10/dist-packages (from requests->torchvision) (3.2.0)\n",
            "Requirement already satisfied: idna<4,>=2.5 in /usr/local/lib/python3.10/dist-packages (from requests->torchvision) (3.4)\n",
            "Requirement already satisfied: urllib3<3,>=1.21.1 in /usr/local/lib/python3.10/dist-packages (from requests->torchvision) (2.0.4)\n",
            "Requirement already satisfied: certifi>=2017.4.17 in /usr/local/lib/python3.10/dist-packages (from requests->torchvision) (2023.7.22)\n",
            "Requirement already satisfied: mpmath>=0.19 in /usr/local/lib/python3.10/dist-packages (from sympy->torch) (1.3.0)\n"
          ]
        }
      ],
      "source": [
        "!pip install torch torchvision"
      ]
    },
    {
      "cell_type": "markdown",
      "source": [
        "#### Import libraries"
      ],
      "metadata": {
        "id": "Kaxu1wb6w_RZ"
      }
    },
    {
      "cell_type": "code",
      "source": [
        "import torch\n",
        "import torch.nn as nn\n",
        "import torch.optim as optim\n",
        "import matplotlib.pyplot as plt\n",
        "import torchvision\n",
        "import torchvision.transforms as transforms"
      ],
      "metadata": {
        "id": "U0xQACBnd6_C"
      },
      "execution_count": 2,
      "outputs": []
    },
    {
      "cell_type": "markdown",
      "source": [
        "#### Define instance of MLP model"
      ],
      "metadata": {
        "id": "e8A4j6fNxImA"
      }
    },
    {
      "cell_type": "code",
      "source": [
        "class MLP_Model(nn.Module):\n",
        "    def __init__(self):\n",
        "        super(MLP_Model, self).__init__()\n",
        "        # Define the layers: input size, hidden layer, and output layer\n",
        "        self.fc1 = nn.Linear(28 * 28, 128)  # Input size is 28x28, output size is 128\n",
        "        self.fc2 = nn.Linear(128, 64)       # Hidden layer with 64 units\n",
        "        self.fc3 = nn.Linear(64, 10)        # Output layer with 10 units (for digits 0-9)\n",
        "\n",
        "     # Forward function\n",
        "    def forward(self, x):\n",
        "      # Flatten the input\n",
        "        x = x.view(-1, 28 * 28)\n",
        "      # Apply ReLU activation functions to hidden layers\n",
        "        x = torch.relu(self.fc1(x))\n",
        "        x = torch.relu(self.fc2(x))\n",
        "      # Output layer\n",
        "        x = self.fc3(x)\n",
        "        return x"
      ],
      "metadata": {
        "id": "qKoN37pf5BKU"
      },
      "execution_count": 3,
      "outputs": []
    },
    {
      "cell_type": "markdown",
      "source": [
        "#### Load the training and testing datasets"
      ],
      "metadata": {
        "id": "guHUFiHe5-7i"
      }
    },
    {
      "cell_type": "code",
      "source": [
        "# This is loader data of MNIST dataset for training and testing.\n",
        "def load_data(batch_size=80):\n",
        "    # The Definition of data transformations for converting images to tensors.\n",
        "    transform_dataset_to_tensor = transforms.Compose([transforms.ToTensor()])\n",
        "\n",
        "    # Load training dataset\n",
        "    training_dataset = torchvision.datasets.MNIST(root='./data', train=True, download=True, transform=transform_dataset_to_tensor)\n",
        "    load_training_dataset = torch.utils.data.DataLoader(training_dataset, batch_size=batch_size, shuffle=True)\n",
        "\n",
        "    # Load testing dataset\n",
        "    testing_dataset = torchvision.datasets.MNIST(root='./data', train=False, download=True, transform=transform_dataset_to_tensor)\n",
        "    load_testing_dataset = torch.utils.data.DataLoader(testing_dataset, batch_size=batch_size, shuffle=False)\n",
        "\n",
        "    #return dataset trained and tested\n",
        "    return load_training_dataset, load_testing_dataset"
      ],
      "metadata": {
        "id": "wpf_F8WZ5H3x"
      },
      "execution_count": 4,
      "outputs": []
    },
    {
      "cell_type": "markdown",
      "source": [
        "#### Function to display a sample of images from a data loader"
      ],
      "metadata": {
        "id": "k2SUy8njLITl"
      }
    },
    {
      "cell_type": "code",
      "source": [
        "\n",
        "def display_sample_images(data_loader, num_samples=5):\n",
        "    data_iter = iter(data_loader)\n",
        "    images, labels = next(data_iter)\n",
        "\n",
        "    fig, axes = plt.subplots(1, num_samples, figsize=(12, 3))\n",
        "    for i in range(num_samples):\n",
        "        ax = axes[i]\n",
        "        image = images[i].squeeze().numpy()\n",
        "        label = labels[i].item()\n",
        "\n",
        "        ax.imshow(image, cmap='gray')\n",
        "        ax.set_title(f\"Label: {label}\")\n",
        "        ax.axis('off')\n",
        "\n",
        "    plt.show()"
      ],
      "metadata": {
        "id": "lkiBlRCtI6yZ"
      },
      "execution_count": 5,
      "outputs": []
    },
    {
      "cell_type": "markdown",
      "source": [
        "#### Train the model on the training dataset"
      ],
      "metadata": {
        "id": "YYJevojt6Jnw"
      }
    },
    {
      "cell_type": "code",
      "source": [
        "# This function has purpose to train the provided neural network model using\n",
        "# mini-batch gradient descent with the specified number of epochs and learning rate.\n",
        "def train_model(model, load_training_dataset, n_epochs=5, learning_rate=0.001):\n",
        "    # Define loss function (cross-entropy) and optimizer (Adam)\n",
        "    criterion = nn.CrossEntropyLoss()\n",
        "    optimizer = optim.Adam(model.parameters(), lr=learning_rate)\n",
        "\n",
        "        # The function importance lies in its role in training, evaluating, and saving a neural network model for digit classification.\n",
        "    for epoch in range(n_epochs):\n",
        "        running_loss = 0.0\n",
        "        for i, data in enumerate(load_training_dataset, 0):\n",
        "            inputs, labels = data  # Get the inputs and labels from the data loader\n",
        "            optimizer.zero_grad()  # Zero the gradient buffers of all model parameters\n",
        "            outputs = model(inputs)  # compute model predictions\n",
        "            loss = criterion(outputs, labels)  # Compute the loss between predictions and labels\n",
        "            loss.backward()  # Backpropagation: compute gradients\n",
        "            optimizer.step()  # Update model parameters using the computed gradients\n",
        "            running_loss += loss.item()  # Track the running loss\n",
        "\n",
        "            if i % 100 == 99:\n",
        "                print(f\"Epoch {epoch + 1}, Batch {i + 1}, Loss: {running_loss / 100:.4f}\")\n",
        "                running_loss = 0.0\n",
        "\n",
        "    # Print the training progress by displaying epoch, batch, and loss of\n"
      ],
      "metadata": {
        "id": "TpD1Wyxw5OhZ"
      },
      "execution_count": 6,
      "outputs": []
    },
    {
      "cell_type": "markdown",
      "source": [
        "#### Evaluate the trained model on the testing dataset"
      ],
      "metadata": {
        "id": "j93FEV-W6SpQ"
      }
    },
    {
      "cell_type": "code",
      "source": [
        "# Function to evaluate the model\n",
        "def evaluate_model(model, load_testing_dataset):\n",
        "    correct = 0\n",
        "    total = 0\n",
        "    with torch.no_grad():\n",
        "        for data in load_testing_dataset:\n",
        "            images, labels = data\n",
        "            outputs = model(images)\n",
        "            _, predicted = torch.max(outputs.data, 1)\n",
        "            total += labels.size(0)\n",
        "            correct += (predicted == labels).sum().item()\n",
        "\n",
        "# calculate accuracy of my model\n",
        "    accuracy = 100 * correct / total\n",
        "    print(f\"\\n Accuracy on the test dataset: {accuracy:.3f}%\")"
      ],
      "metadata": {
        "id": "LPl4ODtSd2H2"
      },
      "execution_count": 7,
      "outputs": []
    },
    {
      "cell_type": "markdown",
      "source": [
        "#### Optionally, save the trained model to a file"
      ],
      "metadata": {
        "id": "0fe9sCwQ6X_K"
      }
    },
    {
      "cell_type": "code",
      "source": [
        "# Function to save the trained model to mnist_mlp_trained_model.pth\n",
        "def save_model(model, filename='mnist_mlp_trained_model.pth'):\n",
        "    torch.save(model.state_dict(), filename)"
      ],
      "metadata": {
        "id": "oZ_Do5se5dbh"
      },
      "execution_count": 8,
      "outputs": []
    },
    {
      "cell_type": "markdown",
      "source": [
        "#### Call all functions"
      ],
      "metadata": {
        "id": "m3V455XwwBX0"
      }
    },
    {
      "cell_type": "code",
      "source": [
        "# Create an instance of your MLP model\n",
        "model = MLP_Model()\n",
        "\n",
        "# Load the training and testing datasets\n",
        "load_training_dataset, load_testing_dataset = load_data(batch_size=80)\n",
        "\n",
        "# Display a sample of training images\n",
        "display_sample_images(load_training_dataset, num_samples=5)\n",
        "\n",
        "# Train the model on the training dataset\n",
        "train_model(model, load_training_dataset, n_epochs=5, learning_rate=0.001)\n",
        "\n",
        "# Evaluate the trained model on the testing dataset\n",
        "evaluate_model(model, load_testing_dataset)\n",
        "\n",
        "# Save the trained model to a file - mnist_mlp_trained_model.pth\n",
        "save_model(model, filename='mnist_mlp_trained_model.pth')\n"
      ],
      "metadata": {
        "colab": {
          "base_uri": "https://localhost:8080/",
          "height": 1000
        },
        "id": "9FPld1_kveS9",
        "outputId": "d38faa7d-0c4b-4dd8-9646-7dfca9ee61b5"
      },
      "execution_count": 9,
      "outputs": [
        {
          "output_type": "stream",
          "name": "stdout",
          "text": [
            "Downloading http://yann.lecun.com/exdb/mnist/train-images-idx3-ubyte.gz\n",
            "Downloading http://yann.lecun.com/exdb/mnist/train-images-idx3-ubyte.gz to ./data/MNIST/raw/train-images-idx3-ubyte.gz\n"
          ]
        },
        {
          "output_type": "stream",
          "name": "stderr",
          "text": [
            "100%|██████████| 9912422/9912422 [00:00<00:00, 425400952.03it/s]"
          ]
        },
        {
          "output_type": "stream",
          "name": "stdout",
          "text": [
            "Extracting ./data/MNIST/raw/train-images-idx3-ubyte.gz to ./data/MNIST/raw\n"
          ]
        },
        {
          "output_type": "stream",
          "name": "stderr",
          "text": [
            "\n"
          ]
        },
        {
          "output_type": "stream",
          "name": "stdout",
          "text": [
            "\n",
            "Downloading http://yann.lecun.com/exdb/mnist/train-labels-idx1-ubyte.gz\n",
            "Downloading http://yann.lecun.com/exdb/mnist/train-labels-idx1-ubyte.gz to ./data/MNIST/raw/train-labels-idx1-ubyte.gz\n"
          ]
        },
        {
          "output_type": "stream",
          "name": "stderr",
          "text": [
            "100%|██████████| 28881/28881 [00:00<00:00, 34335514.12it/s]\n"
          ]
        },
        {
          "output_type": "stream",
          "name": "stdout",
          "text": [
            "Extracting ./data/MNIST/raw/train-labels-idx1-ubyte.gz to ./data/MNIST/raw\n",
            "\n",
            "Downloading http://yann.lecun.com/exdb/mnist/t10k-images-idx3-ubyte.gz\n",
            "Downloading http://yann.lecun.com/exdb/mnist/t10k-images-idx3-ubyte.gz to ./data/MNIST/raw/t10k-images-idx3-ubyte.gz\n"
          ]
        },
        {
          "output_type": "stream",
          "name": "stderr",
          "text": [
            "100%|██████████| 1648877/1648877 [00:00<00:00, 173421886.12it/s]"
          ]
        },
        {
          "output_type": "stream",
          "name": "stdout",
          "text": [
            "Extracting ./data/MNIST/raw/t10k-images-idx3-ubyte.gz to ./data/MNIST/raw\n",
            "\n",
            "Downloading http://yann.lecun.com/exdb/mnist/t10k-labels-idx1-ubyte.gz\n"
          ]
        },
        {
          "output_type": "stream",
          "name": "stderr",
          "text": [
            "\n"
          ]
        },
        {
          "output_type": "stream",
          "name": "stdout",
          "text": [
            "Downloading http://yann.lecun.com/exdb/mnist/t10k-labels-idx1-ubyte.gz to ./data/MNIST/raw/t10k-labels-idx1-ubyte.gz\n"
          ]
        },
        {
          "output_type": "stream",
          "name": "stderr",
          "text": [
            "100%|██████████| 4542/4542 [00:00<00:00, 15289348.93it/s]\n"
          ]
        },
        {
          "output_type": "stream",
          "name": "stdout",
          "text": [
            "Extracting ./data/MNIST/raw/t10k-labels-idx1-ubyte.gz to ./data/MNIST/raw\n",
            "\n"
          ]
        },
        {
          "output_type": "display_data",
          "data": {
            "text/plain": [
              "<Figure size 1200x300 with 5 Axes>"
            ],
            "image/png": "[encoded data removed]"
          },
          "metadata": {}
        },
        {
          "output_type": "stream",
          "name": "stdout",
          "text": [
            "Epoch 1, Batch 100, Loss: 0.9864\n",
            "Epoch 1, Batch 200, Loss: 0.3679\n",
            "Epoch 1, Batch 300, Loss: 0.3203\n",
            "Epoch 1, Batch 400, Loss: 0.2867\n",
            "Epoch 1, Batch 500, Loss: 0.2599\n",
            "Epoch 1, Batch 600, Loss: 0.2308\n",
            "Epoch 1, Batch 700, Loss: 0.2164\n",
            "Epoch 2, Batch 100, Loss: 0.1759\n",
            "Epoch 2, Batch 200, Loss: 0.1742\n",
            "Epoch 2, Batch 300, Loss: 0.1682\n",
            "Epoch 2, Batch 400, Loss: 0.1528\n",
            "Epoch 2, Batch 500, Loss: 0.1423\n",
            "Epoch 2, Batch 600, Loss: 0.1407\n",
            "Epoch 2, Batch 700, Loss: 0.1292\n",
            "Epoch 3, Batch 100, Loss: 0.1081\n",
            "Epoch 3, Batch 200, Loss: 0.1050\n",
            "Epoch 3, Batch 300, Loss: 0.1032\n",
            "Epoch 3, Batch 400, Loss: 0.1217\n",
            "Epoch 3, Batch 500, Loss: 0.0968\n",
            "Epoch 3, Batch 600, Loss: 0.0976\n",
            "Epoch 3, Batch 700, Loss: 0.1039\n",
            "Epoch 4, Batch 100, Loss: 0.0794\n",
            "Epoch 4, Batch 200, Loss: 0.0816\n",
            "Epoch 4, Batch 300, Loss: 0.0800\n",
            "Epoch 4, Batch 400, Loss: 0.0843\n",
            "Epoch 4, Batch 500, Loss: 0.0859\n",
            "Epoch 4, Batch 600, Loss: 0.0720\n",
            "Epoch 4, Batch 700, Loss: 0.0771\n",
            "Epoch 5, Batch 100, Loss: 0.0584\n",
            "Epoch 5, Batch 200, Loss: 0.0609\n",
            "Epoch 5, Batch 300, Loss: 0.0708\n",
            "Epoch 5, Batch 400, Loss: 0.0621\n",
            "Epoch 5, Batch 500, Loss: 0.0632\n",
            "Epoch 5, Batch 600, Loss: 0.0662\n",
            "Epoch 5, Batch 700, Loss: 0.0611\n",
            "\n",
            " Accuracy on the test dataset: 97.040%\n"
          ]
        }
      ]
    }
  ]
}